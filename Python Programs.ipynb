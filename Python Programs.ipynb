{
  "nbformat": 4,
  "nbformat_minor": 0,
  "metadata": {
    "colab": {
      "provenance": [],
      "authorship_tag": "ABX9TyObcasj7iBez6Nn9gOpVRVa",
      "include_colab_link": true
    },
    "kernelspec": {
      "name": "python3",
      "display_name": "Python 3"
    },
    "language_info": {
      "name": "python"
    }
  },
  "cells": [
    {
      "cell_type": "markdown",
      "metadata": {
        "id": "view-in-github",
        "colab_type": "text"
      },
      "source": [
        "<a href=\"https://colab.research.google.com/github/surya23tiwari/30032025/blob/main/Python%20Programs.ipynb\" target=\"_parent\"><img src=\"https://colab.research.google.com/assets/colab-badge.svg\" alt=\"Open In Colab\"/></a>"
      ]
    },
    {
      "cell_type": "code",
      "execution_count": 1,
      "metadata": {
        "colab": {
          "base_uri": "https://localhost:8080/"
        },
        "id": "DoYgefy7z-2F",
        "outputId": "fbce4156-d964-4614-b18b-9cd370e6cb56"
      },
      "outputs": [
        {
          "output_type": "stream",
          "name": "stdout",
          "text": [
            "\n",
            "=== System Health Check ===\n",
            "\n",
            "CPU Usage: 97.50% - High\n",
            "Memory Usage: 9.20% - OK\n",
            "Disk Usage (/): 50.30% - OK\n",
            "\n",
            "Service Status:\n",
            " - nginx: Not Running\n",
            " - docker: Not Running\n",
            "\n",
            "Health Check Complete.\n",
            "\n"
          ]
        }
      ],
      "source": [
        "#!/usr/bin/env python3\n",
        "\n",
        "import psutil\n",
        "import shutil\n",
        "import os\n",
        "import subprocess\n",
        "\n",
        "# Define services to check\n",
        "services_to_check = ['nginx', 'docker']\n",
        "\n",
        "def check_cpu_usage(threshold=80):\n",
        "    usage = psutil.cpu_percent(interval=1)\n",
        "    return usage, usage < threshold\n",
        "\n",
        "def check_memory_usage(threshold=80):\n",
        "    memory = psutil.virtual_memory()\n",
        "    usage = memory.percent\n",
        "    return usage, usage < threshold\n",
        "\n",
        "def check_disk_usage(path='/', threshold=80):\n",
        "    total, used, free = shutil.disk_usage(path)\n",
        "    usage = (used / total) * 100\n",
        "    return usage, usage < threshold\n",
        "\n",
        "def check_service_status(service_name):\n",
        "    try:\n",
        "        result = subprocess.run(['systemctl', 'is-active', service_name], capture_output=True, text=True)\n",
        "        return service_name, result.stdout.strip() == 'active'\n",
        "    except Exception as e:\n",
        "        return service_name, False\n",
        "\n",
        "def main():\n",
        "    print(\"\\n=== System Health Check ===\\n\")\n",
        "\n",
        "    # CPU Check\n",
        "    cpu, cpu_ok = check_cpu_usage()\n",
        "    print(f\"CPU Usage: {cpu:.2f}% - {'OK' if cpu_ok else 'High'}\")\n",
        "\n",
        "    # Memory Check\n",
        "    mem, mem_ok = check_memory_usage()\n",
        "    print(f\"Memory Usage: {mem:.2f}% - {'OK' if mem_ok else 'High'}\")\n",
        "\n",
        "    # Disk Check\n",
        "    disk, disk_ok = check_disk_usage()\n",
        "    print(f\"Disk Usage (/): {disk:.2f}% - {'OK' if disk_ok else 'High'}\")\n",
        "\n",
        "    # Services Check\n",
        "    print(\"\\nService Status:\")\n",
        "    for service in services_to_check:\n",
        "        name, running = check_service_status(service)\n",
        "        print(f\" - {name}: {'Running' if running else 'Not Running'}\")\n",
        "\n",
        "    print(\"\\nHealth Check Complete.\\n\")\n",
        "\n",
        "if __name__ == '__main__':\n",
        "    main()\n"
      ]
    },
    {
      "cell_type": "code",
      "source": [
        "import random\n",
        "\n",
        "def guess_the_number():\n",
        "    print(\"🎮 Welcome to 'Guess the Number' Game!\")\n",
        "    print(\"I'm thinking of a number between 1 and 100.\")\n",
        "\n",
        "    number_to_guess = random.randint(1, 100)\n",
        "    attempts = 0\n",
        "\n",
        "    while True:\n",
        "        try:\n",
        "            guess = int(input(\"Enter your guess: \"))\n",
        "            attempts += 1\n",
        "\n",
        "            if guess < number_to_guess:\n",
        "                print(\"Too low! Try again.\")\n",
        "            elif guess > number_to_guess:\n",
        "                print(\"Too high! Try again.\")\n",
        "            else:\n",
        "                print(f\"🎉 Congratulations! You guessed it in {attempts} attempts!\")\n",
        "                break\n",
        "        except ValueError:\n",
        "            print(\"⚠️ Please enter a valid number.\")\n",
        "\n",
        "if __name__ == \"__main__\":\n",
        "    guess_the_number()\n"
      ],
      "metadata": {
        "colab": {
          "base_uri": "https://localhost:8080/"
        },
        "id": "e5kjWrG40wpC",
        "outputId": "2a659243-6af3-4de8-c354-35e08b73499f"
      },
      "execution_count": null,
      "outputs": [
        {
          "output_type": "stream",
          "name": "stdout",
          "text": [
            "🎮 Welcome to 'Guess the Number' Game!\n",
            "I'm thinking of a number between 1 and 100.\n",
            "Enter your guess: 99\n",
            "Too high! Try again.\n",
            "Enter your guess: 11\n",
            "Too high! Try again.\n",
            "Enter your guess: 11\n",
            "Too high! Try again.\n",
            "Enter your guess: 12\n",
            "Too high! Try again.\n"
          ]
        }
      ]
    }
  ]
}